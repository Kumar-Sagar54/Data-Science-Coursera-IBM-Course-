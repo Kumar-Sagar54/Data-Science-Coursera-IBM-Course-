{
 "cells": [
  {
   "cell_type": "markdown",
   "id": "c3091cd1-dab8-46fa-8030-1dab5d3c4869",
   "metadata": {},
   "source": [
    "# TITLE : DATA SCIENCE TOOLS AND ECOSYSTEM"
   ]
  },
  {
   "cell_type": "markdown",
   "id": "19f95599-afdb-41d6-ab05-bd3c87e80673",
   "metadata": {},
   "source": [
    "**Introduction :**\n",
    "\n",
    "This notebook is created to provide a comprehensive overview of the various tools and technologies that are commonly used in Data Science, including programming languages, libraries, frameworks, and other essential tools. The goal of this notebook is to help individuals who are interested in Data Science to gain a better understanding of the tools and ecosystem available to them, and how to effectively use them to tackle various data-related problems. By exploring the different tools and their use cases, readers can gain insights into how to apply these tools to real-world scenarios, and improve their Data Science skills.\n"
   ]
  },
  {
   "cell_type": "markdown",
   "id": "4ea009a6",
   "metadata": {},
   "source": [
    "**Objectives**\n",
    "\n",
    "- Popular Languages used for data science\n",
    "- Commonly Used Libraries for data sciecne \n",
    "- List of Open Source Data Science Development Tools\n",
    "- Evaluating the Arithmetic Operations In Python "
   ]
  },
  {
   "cell_type": "markdown",
   "id": "88715c16-cef0-4d82-a652-16d5c3108f18",
   "metadata": {},
   "source": [
    "**Languages for Data Science**\n",
    "\n",
    "Some Popular Languages that are Used for data Science are : \n",
    "\n",
    "1. Python \n",
    "2. R \n",
    "3. SQL \n",
    "4. Scala \n",
    "5. Julia \n",
    "6. Java \n",
    "7. C++\n",
    "8. JavaScript \n",
    "9. PHP "
   ]
  },
  {
   "cell_type": "markdown",
   "id": "d2bbb6c4-878b-4b96-814b-ea37a4c5ad14",
   "metadata": {},
   "source": [
    "**Data Science Libraries**\n",
    "\n",
    "Some of the commonly used libraries used by the data scientists include: \n",
    "\n",
    "1. Pandas: This library is used for the data manipulation and data analysis\n",
    "2. Numpy : This library is used for numerical computing provide support for arrays and matrices, as well as a large collection of mathematical functions.\n",
    "3. Matplotlib : This library is used for data visualization. \n",
    "4. Seaborn : This library is also used for data visualization,built on top of Matplotlib that provides a higher-level interface for creating statistical graphics\n",
    "5. Scikit-learn: a library for machine learning in Python that provides tools for classification, regression, clustering, and more.\n",
    "6. TensorFlow: an open-source machine learning library developed by Google that provides a framework for building and training deep learning models.\n",
    "7. Keras: a high-level neural networks API, written in Python and capable of running on top of TensorFlow, Theano, or CNTK\n"
   ]
  },
  {
   "cell_type": "markdown",
   "id": "0c38b449-5d5e-424b-bd66-81ec69f9da3e",
   "metadata": {},
   "source": [
    "|**Data Science Tools**|\n",
    "|--------------------|\n",
    "|1.Jupyter Notebook|\n",
    "|2. Spyder|\n",
    "|3. RStudio|\n"
   ]
  },
  {
   "cell_type": "markdown",
   "id": "3c28f86e-5111-49cc-b6c2-002d98cd76a3",
   "metadata": {},
   "source": [
    "**Evaluating Arithmetic Expressions**\n",
    "\n",
    "### Below are the few Examples of evaluating arithmetic expressions in python "
   ]
  },
  {
   "cell_type": "code",
   "execution_count": 3,
   "id": "571acfe4-a107-4852-92c2-f3047d757d48",
   "metadata": {},
   "outputs": [
    {
     "data": {
      "text/plain": [
       "17"
      ]
     },
     "execution_count": 3,
     "metadata": {},
     "output_type": "execute_result"
    }
   ],
   "source": [
    "## This is a simple arithmetic expression to multiply the two integers then add them with another integer:\n",
    "\n",
    "## Expressiom \n",
    "\n",
    "(3*4)+5\n",
    "\n"
   ]
  },
  {
   "cell_type": "code",
   "execution_count": 1,
   "id": "6938c7c4",
   "metadata": {},
   "outputs": [
    {
     "data": {
      "text/plain": [
       "3.3333333333333335"
      ]
     },
     "execution_count": 1,
     "metadata": {},
     "output_type": "execute_result"
    }
   ],
   "source": [
    "# Expression is :\n",
    "\n",
    "\n",
    "(200/60)\n",
    "\n",
    "## above given expression will convert 200 minutes into the hours by dividing the 200 minutes by 60."
   ]
  },
  {
   "cell_type": "markdown",
   "id": "6214c883",
   "metadata": {},
   "source": [
    "## Author\n",
    "------\n",
    "Sagar Kumar"
   ]
  }
 ],
 "metadata": {
  "kernelspec": {
   "display_name": "Python 3.9.13 ('base')",
   "language": "python",
   "name": "python3"
  },
  "language_info": {
   "codemirror_mode": {
    "name": "ipython",
    "version": 3
   },
   "file_extension": ".py",
   "mimetype": "text/x-python",
   "name": "python",
   "nbconvert_exporter": "python",
   "pygments_lexer": "ipython3",
   "version": "3.9.13"
  },
  "vscode": {
   "interpreter": {
    "hash": "02a4d460e0ecf12c714916b0fc73cd5952efc9acebf8d74b91aac6fb8de38d7a"
   }
  }
 },
 "nbformat": 4,
 "nbformat_minor": 5
}
